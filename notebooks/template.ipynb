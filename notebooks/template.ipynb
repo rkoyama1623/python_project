{
 "cells": [
  {
   "cell_type": "code",
   "execution_count": null,
   "id": "7fd95842-230a-455f-9706-a3a996e84051",
   "metadata": {},
   "outputs": [],
   "source": [
    "# -*-coding:utf-8-*-\n",
    "!pwd\n",
    "%load_ext autoreload\n",
    "%autoreload 2\n",
    "\n",
    "from __future__ import print_function\n",
    "# Path configuration\n",
    "import os\n",
    "MAKE_SOURCE_DIR=os.environ['MAKE_SOURCE_DIR']\n",
    "DATA_DIR = os.path.join(MAKE_SOURCE_DIR, 'data')\n",
    "SRC_DIR = os.path.join(MAKE_SOURCE_DIR, 'src')\n",
    "import sys\n",
    "sys.path.append(SRC_DIR)\n",
    "# Libraries\n",
    "import numpy\n",
    "from numpy import pi, cos, sin"
   ]
  }
 ],
 "metadata": {
  "kernelspec": {
   "display_name": "Python 2",
   "language": "python",
   "name": "python2"
  },
  "language_info": {
   "codemirror_mode": {
    "name": "ipython",
    "version": 2
   },
   "file_extension": ".py",
   "mimetype": "text/x-python",
   "name": "python",
   "nbconvert_exporter": "python",
   "pygments_lexer": "ipython2",
   "version": "2.7.17"
  }
 },
 "nbformat": 4,
 "nbformat_minor": 5
}
